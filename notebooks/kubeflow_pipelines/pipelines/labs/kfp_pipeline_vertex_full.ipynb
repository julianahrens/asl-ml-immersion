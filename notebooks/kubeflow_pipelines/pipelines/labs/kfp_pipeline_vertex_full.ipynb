{
 "cells": [
  {
   "cell_type": "markdown",
   "metadata": {
    "tags": []
   },
   "source": [
    "# Continuous Training with Kubeflow Pipeline and Vertex AI"
   ]
  },
  {
   "cell_type": "markdown",
   "metadata": {},
   "source": [
    "**Learning Objectives:**\n",
    "1. Learn how to use KF pre-built components\n",
    "1. Learn how to build a KF pipeline with these components\n",
    "1. Learn how to compile, upload, and run a KF pipeline\n",
    "\n",
    "\n",
    "In this lab, you will build, deploy, and run a KFP pipeline that orchestrates the **Vertex AI** services to train, tune, and deploy a **scikit-learn** model using the Google pre-built components."
   ]
  },
  {
   "cell_type": "markdown",
   "metadata": {},
   "source": [
    "## Setup"
   ]
  },
  {
   "cell_type": "code",
   "execution_count": 4,
   "metadata": {},
   "outputs": [],
   "source": [
    "from datetime import datetime\n",
    "\n",
    "from google.cloud import aiplatform"
   ]
  },
  {
   "cell_type": "code",
   "execution_count": 5,
   "metadata": {},
   "outputs": [],
   "source": [
    "REGION = \"us-central1\"\n",
    "PROJECT_ID = !(gcloud config get-value project)\n",
    "PROJECT_ID = PROJECT_ID[0]"
   ]
  },
  {
   "cell_type": "code",
   "execution_count": 6,
   "metadata": {
    "tags": []
   },
   "outputs": [
    {
     "name": "stdout",
     "output_type": "stream",
     "text": [
      "env: PATH=/home/jupyter/.local/bin:/usr/local/cuda/bin:/opt/conda/bin:/opt/conda/condabin:/usr/local/bin:/usr/bin:/bin:/usr/local/games:/usr/games\n"
     ]
    }
   ],
   "source": [
    "# Set `PATH` to include the directory containing KFP CLI\n",
    "PATH = %env PATH\n",
    "%env PATH=/home/jupyter/.local/bin:{PATH}"
   ]
  },
  {
   "cell_type": "markdown",
   "metadata": {},
   "source": [
    "## Understanding the pipeline design\n"
   ]
  },
  {
   "cell_type": "markdown",
   "metadata": {},
   "source": [
    "The workflow implemented by the pipeline is defined using a Python based Domain Specific Language (DSL). The pipeline's DSL is in the `pipeline_vertex/pipeline_prebuilt.py` file that we will generate below.\n",
    "\n",
    "The pipeline's DSL has been designed to avoid hardcoding any environment specific settings like file paths or connection strings. These settings are provided to the pipeline code through a set of environment variables.\n"
   ]
  },
  {
   "cell_type": "markdown",
   "metadata": {},
   "source": [
    "### Build the trainer image"
   ]
  },
  {
   "cell_type": "markdown",
   "metadata": {},
   "source": [
    "The training step in the pipeline will require a custom training container. The custom training image is defined in `trainer_image_vertex/Dockerfile`."
   ]
  },
  {
   "cell_type": "code",
   "execution_count": 7,
   "metadata": {},
   "outputs": [
    {
     "name": "stdout",
     "output_type": "stream",
     "text": [
      "FROM gcr.io/deeplearning-platform-release/base-cpu\n",
      "RUN pip install -U fire cloudml-hypertune scikit-learn==0.20.4 pandas==0.24.2\n",
      "WORKDIR /app\n",
      "COPY train.py .\n",
      "\n",
      "ENTRYPOINT [\"python\", \"train.py\"]\n"
     ]
    }
   ],
   "source": [
    "!cat trainer_image_vertex/Dockerfile"
   ]
  },
  {
   "cell_type": "markdown",
   "metadata": {},
   "source": [
    "Let's now build and push this trainer container to the container registry:"
   ]
  },
  {
   "cell_type": "code",
   "execution_count": 8,
   "metadata": {},
   "outputs": [
    {
     "data": {
      "text/plain": [
       "'gcr.io/qwiklabs-asl-00-e7f845a58208/trainer_image_covertype_vertex:latest'"
      ]
     },
     "execution_count": 8,
     "metadata": {},
     "output_type": "execute_result"
    }
   ],
   "source": [
    "IMAGE_NAME = \"trainer_image_covertype_vertex\"\n",
    "TAG = \"latest\"\n",
    "TRAINING_CONTAINER_IMAGE_URI = f\"gcr.io/{PROJECT_ID}/{IMAGE_NAME}:{TAG}\"\n",
    "TRAINING_CONTAINER_IMAGE_URI"
   ]
  },
  {
   "cell_type": "code",
   "execution_count": 6,
   "metadata": {},
   "outputs": [
    {
     "name": "stdout",
     "output_type": "stream",
     "text": [
      "Creating temporary tarball archive of 2 file(s) totalling 3.3 KiB before compression.\n",
      "Uploading tarball of [trainer_image_vertex] to [gs://qwiklabs-asl-00-e7f845a58208_cloudbuild/source/1668458834.529879-15e6b79c5d0c456aac31b9617642608f.tgz]\n",
      "Created [https://cloudbuild.googleapis.com/v1/projects/qwiklabs-asl-00-e7f845a58208/locations/global/builds/21bd3d04-8058-422a-afed-3cc52c2b91a5].\n",
      "Logs are available at [ https://console.cloud.google.com/cloud-build/builds/21bd3d04-8058-422a-afed-3cc52c2b91a5?project=384232171367 ].\n",
      "----------------------------- REMOTE BUILD OUTPUT ------------------------------\n",
      "starting build \"21bd3d04-8058-422a-afed-3cc52c2b91a5\"\n",
      "\n",
      "FETCHSOURCE\n",
      "Fetching storage object: gs://qwiklabs-asl-00-e7f845a58208_cloudbuild/source/1668458834.529879-15e6b79c5d0c456aac31b9617642608f.tgz#1668458837935188\n",
      "Copying gs://qwiklabs-asl-00-e7f845a58208_cloudbuild/source/1668458834.529879-15e6b79c5d0c456aac31b9617642608f.tgz#1668458837935188...\n",
      "/ [1 files][  1.6 KiB/  1.6 KiB]                                                \n",
      "Operation completed over 1 objects/1.6 KiB.\n",
      "BUILD\n",
      "Already have image (with digest): gcr.io/cloud-builders/docker\n",
      "Sending build context to Docker daemon  6.144kB\n",
      "Step 1/5 : FROM gcr.io/deeplearning-platform-release/base-cpu\n",
      "latest: Pulling from deeplearning-platform-release/base-cpu\n",
      "eaead16dc43b: Pulling fs layer\n",
      "6529fe2a781d: Pulling fs layer\n",
      "470effa3df00: Pulling fs layer\n",
      "4f4fb700ef54: Pulling fs layer\n",
      "81f7870f3a99: Pulling fs layer\n",
      "97e572c9d0d3: Pulling fs layer\n",
      "67c86225922e: Pulling fs layer\n",
      "4f4fb700ef54: Waiting\n",
      "f0be7e3b4260: Pulling fs layer\n",
      "27519836c4fe: Pulling fs layer\n",
      "8114d85b6dca: Pulling fs layer\n",
      "4f2efc2c2115: Pulling fs layer\n",
      "8b38fa015e72: Pulling fs layer\n",
      "15b21dd7632f: Pulling fs layer\n",
      "15c1e55a1fdc: Pulling fs layer\n",
      "92394077f3fc: Pulling fs layer\n",
      "adc7c41f6a21: Pulling fs layer\n",
      "dd2f3ccdd187: Pulling fs layer\n",
      "7d108414db7f: Pulling fs layer\n",
      "c0c5eb2fe5ca: Pulling fs layer\n",
      "87f6b5e0c563: Pulling fs layer\n",
      "9993b2c47e68: Pulling fs layer\n",
      "52e0ea262be3: Pulling fs layer\n",
      "81f7870f3a99: Waiting\n",
      "97e572c9d0d3: Waiting\n",
      "67c86225922e: Waiting\n",
      "f0be7e3b4260: Waiting\n",
      "27519836c4fe: Waiting\n",
      "8114d85b6dca: Waiting\n",
      "4f2efc2c2115: Waiting\n",
      "8b38fa015e72: Waiting\n",
      "15b21dd7632f: Waiting\n",
      "15c1e55a1fdc: Waiting\n",
      "92394077f3fc: Waiting\n",
      "adc7c41f6a21: Waiting\n",
      "dd2f3ccdd187: Waiting\n",
      "7d108414db7f: Waiting\n",
      "c0c5eb2fe5ca: Waiting\n",
      "87f6b5e0c563: Waiting\n",
      "9993b2c47e68: Waiting\n",
      "52e0ea262be3: Waiting\n",
      "470effa3df00: Verifying Checksum\n",
      "470effa3df00: Download complete\n",
      "4f4fb700ef54: Verifying Checksum\n",
      "4f4fb700ef54: Download complete\n",
      "eaead16dc43b: Verifying Checksum\n",
      "eaead16dc43b: Download complete\n",
      "6529fe2a781d: Download complete\n",
      "67c86225922e: Verifying Checksum\n",
      "67c86225922e: Download complete\n",
      "f0be7e3b4260: Verifying Checksum\n",
      "f0be7e3b4260: Download complete\n",
      "27519836c4fe: Verifying Checksum\n",
      "27519836c4fe: Download complete\n",
      "97e572c9d0d3: Verifying Checksum\n",
      "97e572c9d0d3: Download complete\n",
      "4f2efc2c2115: Verifying Checksum\n",
      "4f2efc2c2115: Download complete\n",
      "8b38fa015e72: Verifying Checksum\n",
      "8b38fa015e72: Download complete\n",
      "15b21dd7632f: Verifying Checksum\n",
      "15b21dd7632f: Download complete\n",
      "15c1e55a1fdc: Verifying Checksum\n",
      "15c1e55a1fdc: Download complete\n",
      "92394077f3fc: Verifying Checksum\n",
      "92394077f3fc: Download complete\n",
      "adc7c41f6a21: Verifying Checksum\n",
      "adc7c41f6a21: Download complete\n",
      "dd2f3ccdd187: Verifying Checksum\n",
      "dd2f3ccdd187: Download complete\n",
      "8114d85b6dca: Verifying Checksum\n",
      "8114d85b6dca: Download complete\n",
      "7d108414db7f: Verifying Checksum\n",
      "7d108414db7f: Download complete\n",
      "c0c5eb2fe5ca: Verifying Checksum\n",
      "c0c5eb2fe5ca: Download complete\n",
      "87f6b5e0c563: Verifying Checksum\n",
      "87f6b5e0c563: Download complete\n",
      "52e0ea262be3: Verifying Checksum\n",
      "52e0ea262be3: Download complete\n",
      "81f7870f3a99: Verifying Checksum\n",
      "81f7870f3a99: Download complete\n",
      "eaead16dc43b: Pull complete\n",
      "6529fe2a781d: Pull complete\n",
      "470effa3df00: Pull complete\n",
      "4f4fb700ef54: Pull complete\n",
      "9993b2c47e68: Verifying Checksum\n",
      "9993b2c47e68: Download complete\n",
      "81f7870f3a99: Pull complete\n",
      "97e572c9d0d3: Pull complete\n",
      "67c86225922e: Pull complete\n",
      "f0be7e3b4260: Pull complete\n",
      "27519836c4fe: Pull complete\n",
      "8114d85b6dca: Pull complete\n",
      "4f2efc2c2115: Pull complete\n",
      "8b38fa015e72: Pull complete\n",
      "15b21dd7632f: Pull complete\n",
      "15c1e55a1fdc: Pull complete\n",
      "92394077f3fc: Pull complete\n",
      "adc7c41f6a21: Pull complete\n",
      "dd2f3ccdd187: Pull complete\n",
      "7d108414db7f: Pull complete\n",
      "c0c5eb2fe5ca: Pull complete\n",
      "87f6b5e0c563: Pull complete\n",
      "9993b2c47e68: Pull complete\n",
      "52e0ea262be3: Pull complete\n",
      "Digest: sha256:d2a00748eaa993fdb5fc941ee6695e6142b53192bff99e74b76e85a876f52379\n",
      "Status: Downloaded newer image for gcr.io/deeplearning-platform-release/base-cpu:latest\n",
      " ---> f5c89f738019\n",
      "Step 2/5 : RUN pip install -U fire cloudml-hypertune scikit-learn==0.20.4 pandas==0.24.2\n",
      " ---> Running in 252ea7479762\n",
      "Collecting fire\n",
      "  Downloading fire-0.4.0.tar.gz (87 kB)\n",
      "     ━━━━━━━━━━━━━━━━━━━━━━━━━━━━━━━━━━━━━━━━ 87.7/87.7 kB 4.8 MB/s eta 0:00:00\n",
      "  Preparing metadata (setup.py): started\n",
      "  Preparing metadata (setup.py): finished with status 'done'\n",
      "Collecting cloudml-hypertune\n",
      "  Downloading cloudml-hypertune-0.1.0.dev6.tar.gz (3.2 kB)\n",
      "  Preparing metadata (setup.py): started\n",
      "  Preparing metadata (setup.py): finished with status 'done'\n",
      "Collecting scikit-learn==0.20.4\n",
      "  Downloading scikit_learn-0.20.4-cp37-cp37m-manylinux1_x86_64.whl (5.4 MB)\n",
      "     ━━━━━━━━━━━━━━━━━━━━━━━━━━━━━━━━━━━━━━━━ 5.4/5.4 MB 40.8 MB/s eta 0:00:00\n",
      "Collecting pandas==0.24.2\n",
      "  Downloading pandas-0.24.2-cp37-cp37m-manylinux1_x86_64.whl (10.1 MB)\n",
      "     ━━━━━━━━━━━━━━━━━━━━━━━━━━━━━━━━━━━━━━━━ 10.1/10.1 MB 44.7 MB/s eta 0:00:00\n",
      "Requirement already satisfied: scipy>=0.13.3 in /opt/conda/lib/python3.7/site-packages (from scikit-learn==0.20.4) (1.7.3)\n",
      "Requirement already satisfied: numpy>=1.8.2 in /opt/conda/lib/python3.7/site-packages (from scikit-learn==0.20.4) (1.21.6)\n",
      "Requirement already satisfied: pytz>=2011k in /opt/conda/lib/python3.7/site-packages (from pandas==0.24.2) (2022.5)\n",
      "Requirement already satisfied: python-dateutil>=2.5.0 in /opt/conda/lib/python3.7/site-packages (from pandas==0.24.2) (2.8.2)\n",
      "Requirement already satisfied: six in /opt/conda/lib/python3.7/site-packages (from fire) (1.16.0)\n",
      "Collecting termcolor\n",
      "  Downloading termcolor-2.1.0-py3-none-any.whl (5.8 kB)\n",
      "Building wheels for collected packages: fire, cloudml-hypertune\n",
      "  Building wheel for fire (setup.py): started\n",
      "  Building wheel for fire (setup.py): finished with status 'done'\n",
      "  Created wheel for fire: filename=fire-0.4.0-py2.py3-none-any.whl size=115942 sha256=f57eddb3488b62b31dadeaea842cb1704de0365cf6c772d5344ac37ab0d8440a\n",
      "  Stored in directory: /root/.cache/pip/wheels/83/21/65/2ac62db55efa6e6edfad09f4e315aa82a35ab138f51e784fb1\n",
      "  Building wheel for cloudml-hypertune (setup.py): started\n",
      "  Building wheel for cloudml-hypertune (setup.py): finished with status 'done'\n",
      "  Created wheel for cloudml-hypertune: filename=cloudml_hypertune-0.1.0.dev6-py2.py3-none-any.whl size=3987 sha256=ceb79da5b330655e8f252a2693fd2d92f5d96b081abe80bd22db3393d037f679\n",
      "  Stored in directory: /root/.cache/pip/wheels/7c/fb/ed/cfc98e70373dfe12db85fffab293e3153162f63de2f6aa5473\n",
      "Successfully built fire cloudml-hypertune\n",
      "Installing collected packages: cloudml-hypertune, termcolor, scikit-learn, pandas, fire\n",
      "  Attempting uninstall: scikit-learn\n",
      "    Found existing installation: scikit-learn 1.0.2\n",
      "    Uninstalling scikit-learn-1.0.2:\n",
      "      Successfully uninstalled scikit-learn-1.0.2\n",
      "  Attempting uninstall: pandas\n",
      "    Found existing installation: pandas 1.3.5\n",
      "    Uninstalling pandas-1.3.5:\n",
      "      Successfully uninstalled pandas-1.3.5\n",
      "\u001b[91mERROR: pip's dependency resolver does not currently take into account all the packages that are installed. This behaviour is the source of the following dependency conflicts.\n",
      "visions 0.7.5 requires pandas>=0.25.3, but you have pandas 0.24.2 which is incompatible.\n",
      "statsmodels 0.13.2 requires pandas>=0.25, but you have pandas 0.24.2 which is incompatible.\n",
      "seaborn 0.12.1 requires pandas>=0.25, but you have pandas 0.24.2 which is incompatible.\n",
      "phik 0.12.2 requires pandas>=0.25.1, but you have pandas 0.24.2 which is incompatible.\n",
      "pandas-profiling 3.4.0 requires pandas!=1.4.0,<1.6,>1.1, but you have pandas 0.24.2 which is incompatible.\n",
      "\u001b[0mSuccessfully installed cloudml-hypertune-0.1.0.dev6 fire-0.4.0 pandas-0.24.2 scikit-learn-0.20.4 termcolor-2.1.0\n",
      "\u001b[91mWARNING: Running pip as the 'root' user can result in broken permissions and conflicting behaviour with the system package manager. It is recommended to use a virtual environment instead: https://pip.pypa.io/warnings/venv\n",
      "\u001b[0mRemoving intermediate container 252ea7479762\n",
      " ---> cc8822df3e81\n",
      "Step 3/5 : WORKDIR /app\n",
      " ---> Running in efe546b3e9aa\n",
      "Removing intermediate container efe546b3e9aa\n",
      " ---> 6275da1396ee\n",
      "Step 4/5 : COPY train.py .\n",
      " ---> 1d2714649713\n",
      "Step 5/5 : ENTRYPOINT [\"python\", \"train.py\"]\n",
      " ---> Running in bb3f436cfc10\n",
      "Removing intermediate container bb3f436cfc10\n",
      " ---> 8cd16cabe806\n",
      "Successfully built 8cd16cabe806\n",
      "Successfully tagged gcr.io/qwiklabs-asl-00-e7f845a58208/trainer_image_covertype_vertex:latest\n",
      "PUSH\n",
      "Pushing gcr.io/qwiklabs-asl-00-e7f845a58208/trainer_image_covertype_vertex:latest\n",
      "The push refers to repository [gcr.io/qwiklabs-asl-00-e7f845a58208/trainer_image_covertype_vertex]\n",
      "688d5ce65fa6: Preparing\n",
      "3e6514b9cfd1: Preparing\n",
      "bea9d2b90692: Preparing\n",
      "2ce63e75bec6: Preparing\n",
      "ee470c1be53d: Preparing\n",
      "affd8f958786: Preparing\n",
      "d9807b9e6598: Preparing\n",
      "159d73d7356c: Preparing\n",
      "b6a3d584445c: Preparing\n",
      "9c2c2f9a22a6: Preparing\n",
      "11e4526fac3c: Preparing\n",
      "60f7ab6b2229: Preparing\n",
      "9b55c6d23a55: Preparing\n",
      "bb078aa13c77: Preparing\n",
      "c99f4484fa81: Preparing\n",
      "14a72aa542a8: Preparing\n",
      "d207b04446b4: Preparing\n",
      "9e49809a77aa: Preparing\n",
      "9b3c3bd1f8de: Preparing\n",
      "5f70bf18a086: Preparing\n",
      "dbf08d497500: Preparing\n",
      "83b459ce565c: Preparing\n",
      "5f70bf18a086: Preparing\n",
      "3cab8b825015: Preparing\n",
      "b362faadeffc: Preparing\n",
      "f4462d5b2da2: Preparing\n",
      "affd8f958786: Waiting\n",
      "d9807b9e6598: Waiting\n",
      "159d73d7356c: Waiting\n",
      "b6a3d584445c: Waiting\n",
      "9c2c2f9a22a6: Waiting\n",
      "11e4526fac3c: Waiting\n",
      "60f7ab6b2229: Waiting\n",
      "9b55c6d23a55: Waiting\n",
      "bb078aa13c77: Waiting\n",
      "c99f4484fa81: Waiting\n",
      "14a72aa542a8: Waiting\n",
      "d207b04446b4: Waiting\n",
      "9e49809a77aa: Waiting\n",
      "9b3c3bd1f8de: Waiting\n",
      "5f70bf18a086: Waiting\n",
      "dbf08d497500: Waiting\n",
      "83b459ce565c: Waiting\n",
      "3cab8b825015: Waiting\n",
      "b362faadeffc: Waiting\n",
      "f4462d5b2da2: Waiting\n",
      "ee470c1be53d: Layer already exists\n",
      "2ce63e75bec6: Layer already exists\n",
      "affd8f958786: Layer already exists\n",
      "d9807b9e6598: Layer already exists\n",
      "159d73d7356c: Layer already exists\n",
      "b6a3d584445c: Layer already exists\n",
      "11e4526fac3c: Layer already exists\n",
      "9c2c2f9a22a6: Layer already exists\n",
      "60f7ab6b2229: Layer already exists\n",
      "9b55c6d23a55: Layer already exists\n",
      "bb078aa13c77: Layer already exists\n",
      "c99f4484fa81: Layer already exists\n",
      "d207b04446b4: Layer already exists\n",
      "14a72aa542a8: Layer already exists\n",
      "9e49809a77aa: Layer already exists\n",
      "9b3c3bd1f8de: Layer already exists\n",
      "dbf08d497500: Layer already exists\n",
      "5f70bf18a086: Layer already exists\n",
      "3cab8b825015: Layer already exists\n",
      "83b459ce565c: Layer already exists\n",
      "b362faadeffc: Layer already exists\n",
      "f4462d5b2da2: Layer already exists\n",
      "688d5ce65fa6: Pushed\n",
      "3e6514b9cfd1: Pushed\n",
      "bea9d2b90692: Pushed\n",
      "latest: digest: sha256:cfe8ab6e0b9e5e0043401419588fad27001c57dad786f89e1b4c3a3b54cbce57 size: 5754\n",
      "DONE\n",
      "--------------------------------------------------------------------------------\n",
      "ID                                    CREATE_TIME                DURATION  SOURCE                                                                                                      IMAGES                                                                        STATUS\n",
      "21bd3d04-8058-422a-afed-3cc52c2b91a5  2022-11-14T20:47:18+00:00  3M9S      gs://qwiklabs-asl-00-e7f845a58208_cloudbuild/source/1668458834.529879-15e6b79c5d0c456aac31b9617642608f.tgz  gcr.io/qwiklabs-asl-00-e7f845a58208/trainer_image_covertype_vertex (+1 more)  SUCCESS\n"
     ]
    }
   ],
   "source": [
    "!gcloud builds submit --timeout 15m --tag $TRAINING_CONTAINER_IMAGE_URI trainer_image_vertex"
   ]
  },
  {
   "cell_type": "markdown",
   "metadata": {},
   "source": [
    "To match the ml framework version we use at training time while serving the model, we will have to supply the following serving container to the pipeline:"
   ]
  },
  {
   "cell_type": "code",
   "execution_count": 39,
   "metadata": {},
   "outputs": [],
   "source": [
    "SERVING_CONTAINER_IMAGE_URI = (\n",
    "    \"us-docker.pkg.dev/vertex-ai/prediction/sklearn-cpu.0-20:latest\"\n",
    ")"
   ]
  },
  {
   "cell_type": "markdown",
   "metadata": {},
   "source": [
    "**Note:** If you change the version of the training ml framework you'll have to supply a serving container with matching version (see [pre-built containers for prediction](https://cloud.google.com/vertex-ai/docs/predictions/pre-built-containers))."
   ]
  },
  {
   "cell_type": "markdown",
   "metadata": {},
   "source": [
    "## Building and deploying the pipeline"
   ]
  },
  {
   "cell_type": "markdown",
   "metadata": {},
   "source": [
    "Let us write the pipeline to disk:"
   ]
  },
  {
   "cell_type": "code",
   "execution_count": 245,
   "metadata": {},
   "outputs": [
    {
     "name": "stdout",
     "output_type": "stream",
     "text": [
      "Overwriting ./pipeline_vertex/pipeline_prebuilt.py\n"
     ]
    }
   ],
   "source": [
    "%%writefile ./pipeline_vertex/pipeline_prebuilt.py\n",
    "# Copyright 2021 Google LLC\n",
    "\n",
    "# Licensed under the Apache License, Version 2.0 (the \"License\"); you may not\n",
    "# use this file except in compliance with the License. You may obtain a copy of\n",
    "# the License at\n",
    "\n",
    "# https://www.apache.org/licenses/LICENSE-2.0\n",
    "\n",
    "# Unless required by applicable law or agreed to in writing, software\n",
    "# distributed under the License is distributed on an \"AS IS\"\n",
    "# BASIS, WITHOUT WARRANTIES OR CONDITIONS OF ANY KIND, either\n",
    "# express or implied. See the License for the specific language governing\n",
    "# permissions and limitations under the License.\n",
    "\n",
    "from kfp.v2.dsl import (Input, Artifact, component)\n",
    "\n",
    "@component(\n",
    "    base_image=\"gcr.io/ml-pipeline/google-cloud-pipeline-components:0.2.1\",\n",
    "    output_component_file=\"bq_export.yaml\",\n",
    ")\n",
    "def extract_bq_op(\n",
    "    bq_table: Input[Artifact],\n",
    "    destination_uri: str\n",
    "):\n",
    "\n",
    "    from google.cloud import bigquery\n",
    "    client = bigquery.Client(bq_table.metadata[\"projectId\"])\n",
    "\n",
    "    dataset_ref = bigquery.DatasetReference(bq_table.metadata[\"projectId\"], bq_table.metadata[\"datasetId\"])\n",
    "    table_ref = dataset_ref.table(bq_table.metadata[\"tableId\"])\n",
    "\n",
    "    extract_job = client.extract_table(\n",
    "        table_ref,\n",
    "        destination_uri,\n",
    "        # Location must match that of the source table.\n",
    "        location=\"US\",\n",
    "    )  # API request\n",
    "    extract_job.result()  # Waits for job to complete.\n",
    "\n",
    "    print(\n",
    "        \"Exported {}:{}.{} to {}\".format(\n",
    "            bq_table.metadata[\"projectId\"],\n",
    "            bq_table.metadata[\"datasetId\"],\n",
    "            bq_table.metadata[\"tableId\"],\n",
    "            destination_uri\n",
    "        )\n",
    "    )\n",
    "\n",
    "\n",
    "\"\"\"Kubeflow Covertype Pipeline.\"\"\"\n",
    "import os\n",
    "\n",
    "from google.cloud.aiplatform import hyperparameter_tuning as hpt\n",
    "from google_cloud_pipeline_components.aiplatform import (\n",
    "    EndpointCreateOp,\n",
    "    ModelDeployOp,\n",
    "    ModelUploadOp,\n",
    ")\n",
    "\n",
    "from google_cloud_pipeline_components.experimental.bigquery import (\n",
    "    BigqueryQueryJobOp,\n",
    ")\n",
    "\n",
    "from google_cloud_pipeline_components.experimental import (\n",
    "    hyperparameter_tuning_job,\n",
    ")\n",
    "from google_cloud_pipeline_components.experimental.custom_job import (\n",
    "    CustomTrainingJobOp,\n",
    ")\n",
    "\n",
    "from google.cloud import bigquery\n",
    "\n",
    "from kfp.v2 import dsl\n",
    "\n",
    "PIPELINE_ROOT = os.getenv(\"PIPELINE_ROOT\")\n",
    "PROJECT_ID = os.getenv(\"PROJECT_ID\")\n",
    "REGION = os.getenv(\"REGION\")\n",
    "\n",
    "TRAINING_CONTAINER_IMAGE_URI = os.getenv(\"TRAINING_CONTAINER_IMAGE_URI\")\n",
    "SERVING_CONTAINER_IMAGE_URI = os.getenv(\"SERVING_CONTAINER_IMAGE_URI\")\n",
    "SERVING_MACHINE_TYPE = os.getenv(\"SERVING_MACHINE_TYPE\", \"n1-standard-16\")\n",
    "\n",
    "TRAINING_FILE_PATH = os.getenv(\"TRAINING_FILE_PATH\")\n",
    "VALIDATION_FILE_PATH = os.getenv(\"VALIDATION_FILE_PATH\")\n",
    "\n",
    "MAX_TRIAL_COUNT = int(os.getenv(\"MAX_TRIAL_COUNT\", \"5\"))\n",
    "PARALLEL_TRIAL_COUNT = int(os.getenv(\"PARALLEL_TRIAL_COUNT\", \"5\"))\n",
    "THRESHOLD = float(os.getenv(\"THRESHOLD\", \"0.6\"))\n",
    "\n",
    "PIPELINE_NAME = os.getenv(\"PIPELINE_NAME\", \"covertype\")\n",
    "BASE_OUTPUT_DIR = os.getenv(\"BASE_OUTPUT_DIR\", PIPELINE_ROOT)\n",
    "MODEL_DISPLAY_NAME = os.getenv(\"MODEL_DISPLAY_NAME\", PIPELINE_NAME)\n",
    "\n",
    "@dsl.pipeline(\n",
    "    name=f\"{PIPELINE_NAME}-kfp-pipeline-full\",\n",
    "    description=\"Kubeflow pipeline that tunes, trains, and deploys on Vertex\",\n",
    "    pipeline_root=PIPELINE_ROOT,\n",
    ")\n",
    "def create_pipeline():\n",
    "\n",
    "    def construct_query(_mode, _split):        \n",
    "        query = f\"CREATE OR REPLACE TABLE {PROJECT_ID}.covertype_dataset.{_mode}\\\n",
    "        AS (SELECT * \\\n",
    "        FROM `covertype_dataset.covertype` AS cover \\\n",
    "        WHERE \\\n",
    "        MOD(ABS(FARM_FINGERPRINT(TO_JSON_STRING(cover))), 10) IN {_split})\"\n",
    "        return query\n",
    "\n",
    "    bq_train_split_task = BigqueryQueryJobOp(\n",
    "        project=PROJECT_ID,\n",
    "        location=\"US\",\n",
    "        query=construct_query(\"training\", \"(1, 2, 3, 4)\"),\n",
    "    )\n",
    "\n",
    "    bq_valid_split_task = BigqueryQueryJobOp(\n",
    "        project=PROJECT_ID,\n",
    "        location=\"US\",\n",
    "        query=construct_query(\"validation\", \"(8)\"),\n",
    "    )\n",
    "\n",
    "    train_extract = extract_bq_op(\n",
    "        bq_table=bq_train_split_task.outputs['destination_table'],\n",
    "        destination_uri=TRAINING_FILE_PATH)\n",
    "\n",
    "    valid_extract = extract_bq_op(\n",
    "        bq_table=bq_valid_split_task.outputs['destination_table'],\n",
    "        destination_uri=VALIDATION_FILE_PATH)\n",
    "\n",
    "    worker_pool_specs = [\n",
    "        {\n",
    "            \"machine_spec\": {\n",
    "                \"machine_type\": \"n1-standard-4\",\n",
    "                \"accelerator_type\": \"NVIDIA_TESLA_T4\",\n",
    "                \"accelerator_count\": 1,\n",
    "            },\n",
    "            \"replica_count\": 1,\n",
    "            \"container_spec\": {\n",
    "                \"image_uri\": TRAINING_CONTAINER_IMAGE_URI,\n",
    "                \"args\": [\n",
    "                    f\"--training_dataset_path={TRAINING_FILE_PATH}\",\n",
    "                    f\"--validation_dataset_path={VALIDATION_FILE_PATH}\",\n",
    "                    \"--hptune\",\n",
    "                ],\n",
    "            },\n",
    "        }\n",
    "    ]\n",
    "\n",
    "    metric_spec = hyperparameter_tuning_job.serialize_metrics(\n",
    "        {\"accuracy\": \"maximize\"}\n",
    "    )\n",
    "\n",
    "    parameter_spec = hyperparameter_tuning_job.serialize_parameters(\n",
    "        {\n",
    "            \"alpha\": hpt.DoubleParameterSpec(\n",
    "                min=1.0e-4, max=1.0e-1, scale=\"linear\"\n",
    "            ),\n",
    "            \"max_iter\": hpt.DiscreteParameterSpec(\n",
    "                values=[1, 2], scale=\"linear\"\n",
    "            ),\n",
    "        }\n",
    "    )\n",
    "\n",
    "    hp_tuning_task = hyperparameter_tuning_job.HyperparameterTuningJobRunOp(\n",
    "        display_name=f\"{PIPELINE_NAME}-kfp-tuning-job\",\n",
    "        project=PROJECT_ID,\n",
    "        location=REGION,\n",
    "        worker_pool_specs=worker_pool_specs,\n",
    "        study_spec_metrics=metric_spec,\n",
    "        study_spec_parameters=parameter_spec,\n",
    "        max_trial_count=MAX_TRIAL_COUNT,\n",
    "        parallel_trial_count=PARALLEL_TRIAL_COUNT,\n",
    "        base_output_directory=PIPELINE_ROOT,\n",
    "    ).after(train_extract, valid_extract)\n",
    "\n",
    "    trials_task = hyperparameter_tuning_job.GetTrialsOp(\n",
    "        gcp_resources=hp_tuning_task.outputs[\"gcp_resources\"], region=REGION\n",
    "    )\n",
    "\n",
    "    best_hyperparameters_task = (\n",
    "        hyperparameter_tuning_job.GetBestHyperparametersOp(\n",
    "            trials=trials_task.output, study_spec_metrics=metric_spec\n",
    "        )\n",
    "    )\n",
    "\n",
    "    # Construct new worker_pool_specs and\n",
    "    # train new model based on best hyperparameters\n",
    "    worker_pool_specs_task = hyperparameter_tuning_job.GetWorkerPoolSpecsOp(\n",
    "        best_hyperparameters=best_hyperparameters_task.output,\n",
    "        worker_pool_specs=[\n",
    "            {\n",
    "                \"machine_spec\": {\"machine_type\": \"n1-standard-4\"},\n",
    "                \"replica_count\": 1,\n",
    "                \"container_spec\": {\n",
    "                    \"image_uri\": TRAINING_CONTAINER_IMAGE_URI,\n",
    "                    \"args\": [\n",
    "                        f\"--training_dataset_path={TRAINING_FILE_PATH}\",\n",
    "                        f\"--validation_dataset_path={VALIDATION_FILE_PATH}\",\n",
    "                        \"--nohptune\",\n",
    "                    ],\n",
    "                },\n",
    "            }\n",
    "        ],\n",
    "    )\n",
    "\n",
    "    training_task = CustomTrainingJobOp(\n",
    "        project=PROJECT_ID,\n",
    "        location=REGION,\n",
    "        display_name=f\"{PIPELINE_NAME}-kfp-training-job\",\n",
    "        worker_pool_specs=worker_pool_specs_task.output,\n",
    "        base_output_directory=BASE_OUTPUT_DIR,\n",
    "    )\n",
    "\n",
    "    model_upload_task = ModelUploadOp(\n",
    "        project=PROJECT_ID,\n",
    "        display_name=f\"{PIPELINE_NAME}-kfp-model-upload-job\",\n",
    "        artifact_uri=f\"{BASE_OUTPUT_DIR}/model\",\n",
    "        serving_container_image_uri=SERVING_CONTAINER_IMAGE_URI,\n",
    "    )\n",
    "    model_upload_task.after(training_task)\n",
    "\n",
    "    endpoint_create_task = EndpointCreateOp(\n",
    "        project=PROJECT_ID,\n",
    "        display_name=f\"{PIPELINE_NAME}-kfp-create-endpoint-job\",\n",
    "    )\n",
    "    endpoint_create_task.after(model_upload_task)\n",
    "\n",
    "    model_deploy_op = ModelDeployOp(  # pylint: disable=unused-variable\n",
    "        model=model_upload_task.outputs[\"model\"],\n",
    "        endpoint=endpoint_create_task.outputs[\"endpoint\"],\n",
    "        deployed_model_display_name=MODEL_DISPLAY_NAME,\n",
    "        dedicated_resources_machine_type=SERVING_MACHINE_TYPE,\n",
    "        dedicated_resources_min_replica_count=1,\n",
    "        dedicated_resources_max_replica_count=1,\n",
    "    )\n"
   ]
  },
  {
   "cell_type": "markdown",
   "metadata": {},
   "source": [
    "### Compile the pipeline"
   ]
  },
  {
   "cell_type": "markdown",
   "metadata": {},
   "source": [
    "Let stat by defining the environment variables that will be passed to the pipeline compiler:"
   ]
  },
  {
   "cell_type": "markdown",
   "metadata": {},
   "source": [
    "Let us make sure that the `ARTIFACT_STORE` has been created, and let us create it if not:"
   ]
  },
  {
   "cell_type": "code",
   "execution_count": 246,
   "metadata": {},
   "outputs": [
    {
     "name": "stdout",
     "output_type": "stream",
     "text": [
      "gs://qwiklabs-asl-00-e7f845a58208-kfp-artifact-store/\n"
     ]
    }
   ],
   "source": [
    "!gsutil ls | grep ^{ARTIFACT_STORE}/$ || gsutil mb -l {REGION} {ARTIFACT_STORE}"
   ]
  },
  {
   "cell_type": "markdown",
   "metadata": {},
   "source": [
    "**Note:** In case the artifact store was not created and properly set before hand, you may need\n",
    "to run in **CloudShell** the following command to allow Vertex AI to access it:\n",
    "\n",
    "```\n",
    "PROJECT_ID=$(gcloud config get-value project)\n",
    "PROJECT_NUMBER=$(gcloud projects list --filter=\"name=$PROJECT_ID\" --format=\"value(PROJECT_NUMBER)\")\n",
    "gcloud projects add-iam-policy-binding $PROJECT_ID \\\n",
    "    --member=\"serviceAccount:$PROJECT_NUMBER-compute@developer.gserviceaccount.com\" \\\n",
    "    --role=\"roles/storage.objectAdmin\"\n",
    "```"
   ]
  },
  {
   "cell_type": "markdown",
   "metadata": {},
   "source": [
    "#### Use the CLI compiler to compile the pipeline"
   ]
  },
  {
   "cell_type": "code",
   "execution_count": 247,
   "metadata": {},
   "outputs": [
    {
     "name": "stdout",
     "output_type": "stream",
     "text": [
      "env: PIPELINE_ROOT=gs://qwiklabs-asl-00-e7f845a58208-kfp-artifact-store/pipeline\n",
      "env: PROJECT_ID=qwiklabs-asl-00-e7f845a58208\n",
      "env: REGION=us-central1\n",
      "env: SERVING_CONTAINER_IMAGE_URI=us-docker.pkg.dev/vertex-ai/prediction/sklearn-cpu.0-20:latest\n",
      "env: TRAINING_CONTAINER_IMAGE_URI=gcr.io/qwiklabs-asl-00-e7f845a58208/trainer_image_covertype_vertex:latest\n",
      "env: TRAINING_FILE_PATH=gs://qwiklabs-asl-00-e7f845a58208-kfp-artifact-store/data/training/dataset.csv\n",
      "env: VALIDATION_FILE_PATH=gs://qwiklabs-asl-00-e7f845a58208-kfp-artifact-store/data/validation/dataset.csv\n",
      "env: BASE_OUTPUT_DIR=gs://qwiklabs-asl-00-e7f845a58208-kfp-artifact-store/models/20221115002613\n"
     ]
    }
   ],
   "source": [
    "ARTIFACT_STORE = f\"gs://{PROJECT_ID}-kfp-artifact-store\"\n",
    "PIPELINE_ROOT = f\"{ARTIFACT_STORE}/pipeline\"\n",
    "DATA_ROOT = f\"{ARTIFACT_STORE}/data\"\n",
    "\n",
    "TRAINING_FILE_PATH = f\"{DATA_ROOT}/training/dataset.csv\"\n",
    "VALIDATION_FILE_PATH = f\"{DATA_ROOT}/validation/dataset.csv\"\n",
    "\n",
    "TIMESTAMP = datetime.now().strftime(\"%Y%m%d%H%M%S\")\n",
    "BASE_OUTPUT_DIR = f\"{ARTIFACT_STORE}/models/{TIMESTAMP}\"\n",
    "\n",
    "%env PIPELINE_ROOT={PIPELINE_ROOT}\n",
    "%env PROJECT_ID={PROJECT_ID}\n",
    "%env REGION={REGION}\n",
    "%env SERVING_CONTAINER_IMAGE_URI={SERVING_CONTAINER_IMAGE_URI}\n",
    "%env TRAINING_CONTAINER_IMAGE_URI={TRAINING_CONTAINER_IMAGE_URI}\n",
    "%env TRAINING_FILE_PATH={TRAINING_FILE_PATH}\n",
    "%env VALIDATION_FILE_PATH={VALIDATION_FILE_PATH}\n",
    "%env BASE_OUTPUT_DIR={BASE_OUTPUT_DIR}"
   ]
  },
  {
   "cell_type": "markdown",
   "metadata": {},
   "source": [
    "We compile the pipeline from the Python file we generated into a JSON description using the following command:"
   ]
  },
  {
   "cell_type": "code",
   "execution_count": 248,
   "metadata": {},
   "outputs": [],
   "source": [
    "PIPELINE_JSON = \"covertype_kfp_pipeline.json\""
   ]
  },
  {
   "cell_type": "code",
   "execution_count": 249,
   "metadata": {},
   "outputs": [
    {
     "name": "stdout",
     "output_type": "stream",
     "text": [
      "/opt/conda/lib/python3.7/site-packages/kfp/v2/compiler/compiler.py:1266: FutureWarning: APIs imported from the v1 namespace (e.g. kfp.dsl, kfp.components, etc) will not be supported by the v2 compiler since v2.0.0\n",
      "  category=FutureWarning,\n"
     ]
    }
   ],
   "source": [
    "!dsl-compile-v2 --py pipeline_vertex/pipeline_prebuilt.py --output $PIPELINE_JSON"
   ]
  },
  {
   "cell_type": "markdown",
   "metadata": {},
   "source": [
    "**Note:** You can also use the Python SDK to compile the pipeline:\n",
    "\n",
    "```python\n",
    "from kfp.v2 import compiler\n",
    "\n",
    "compiler.Compiler().compile(\n",
    "    pipeline_func=create_pipeline, \n",
    "    package_path=PIPELINE_JSON,\n",
    ")\n",
    "\n",
    "```"
   ]
  },
  {
   "cell_type": "markdown",
   "metadata": {},
   "source": [
    "The result is the pipeline file. "
   ]
  },
  {
   "cell_type": "code",
   "execution_count": 250,
   "metadata": {},
   "outputs": [
    {
     "name": "stdout",
     "output_type": "stream",
     "text": [
      "{\n",
      "  \"pipelineSpec\": {\n",
      "    \"components\": {\n",
      "      \"comp-bigquery-query-job\": {\n",
      "        \"executorLabel\": \"exec-bigquery-query-job\",\n",
      "        \"inputDefinitions\": {\n",
      "          \"parameters\": {\n",
      "            \"job_configuration_query\": {\n",
      "              \"type\": \"STRING\"\n",
      "            },\n"
     ]
    }
   ],
   "source": [
    "!head {PIPELINE_JSON}"
   ]
  },
  {
   "cell_type": "markdown",
   "metadata": {},
   "source": [
    "### Deploy the pipeline package"
   ]
  },
  {
   "cell_type": "code",
   "execution_count": 251,
   "metadata": {},
   "outputs": [
    {
     "name": "stdout",
     "output_type": "stream",
     "text": [
      "INFO:google.cloud.aiplatform.pipeline_jobs:Creating PipelineJob\n",
      "INFO:google.cloud.aiplatform.pipeline_jobs:PipelineJob created. Resource name: projects/384232171367/locations/us-central1/pipelineJobs/covertype-kfp-pipeline-full-20221115002618\n",
      "INFO:google.cloud.aiplatform.pipeline_jobs:To use this PipelineJob in another session:\n",
      "INFO:google.cloud.aiplatform.pipeline_jobs:pipeline_job = aiplatform.PipelineJob.get('projects/384232171367/locations/us-central1/pipelineJobs/covertype-kfp-pipeline-full-20221115002618')\n",
      "INFO:google.cloud.aiplatform.pipeline_jobs:View Pipeline Job:\n",
      "https://console.cloud.google.com/vertex-ai/locations/us-central1/pipelines/runs/covertype-kfp-pipeline-full-20221115002618?project=384232171367\n",
      "INFO:google.cloud.aiplatform.pipeline_jobs:PipelineJob projects/384232171367/locations/us-central1/pipelineJobs/covertype-kfp-pipeline-full-20221115002618 current state:\n",
      "PipelineState.PIPELINE_STATE_RUNNING\n",
      "INFO:google.cloud.aiplatform.pipeline_jobs:PipelineJob projects/384232171367/locations/us-central1/pipelineJobs/covertype-kfp-pipeline-full-20221115002618 current state:\n",
      "PipelineState.PIPELINE_STATE_RUNNING\n",
      "INFO:google.cloud.aiplatform.pipeline_jobs:PipelineJob projects/384232171367/locations/us-central1/pipelineJobs/covertype-kfp-pipeline-full-20221115002618 current state:\n",
      "PipelineState.PIPELINE_STATE_RUNNING\n",
      "INFO:google.cloud.aiplatform.pipeline_jobs:PipelineJob projects/384232171367/locations/us-central1/pipelineJobs/covertype-kfp-pipeline-full-20221115002618 current state:\n",
      "PipelineState.PIPELINE_STATE_RUNNING\n",
      "INFO:google.cloud.aiplatform.pipeline_jobs:PipelineJob projects/384232171367/locations/us-central1/pipelineJobs/covertype-kfp-pipeline-full-20221115002618 current state:\n",
      "PipelineState.PIPELINE_STATE_RUNNING\n",
      "INFO:google.cloud.aiplatform.pipeline_jobs:PipelineJob projects/384232171367/locations/us-central1/pipelineJobs/covertype-kfp-pipeline-full-20221115002618 current state:\n",
      "PipelineState.PIPELINE_STATE_RUNNING\n",
      "INFO:google.cloud.aiplatform.pipeline_jobs:PipelineJob projects/384232171367/locations/us-central1/pipelineJobs/covertype-kfp-pipeline-full-20221115002618 current state:\n",
      "PipelineState.PIPELINE_STATE_RUNNING\n",
      "INFO:google.cloud.aiplatform.pipeline_jobs:PipelineJob projects/384232171367/locations/us-central1/pipelineJobs/covertype-kfp-pipeline-full-20221115002618 current state:\n",
      "PipelineState.PIPELINE_STATE_RUNNING\n",
      "INFO:google.cloud.aiplatform.pipeline_jobs:PipelineJob projects/384232171367/locations/us-central1/pipelineJobs/covertype-kfp-pipeline-full-20221115002618 current state:\n",
      "PipelineState.PIPELINE_STATE_RUNNING\n",
      "INFO:google.cloud.aiplatform.pipeline_jobs:PipelineJob projects/384232171367/locations/us-central1/pipelineJobs/covertype-kfp-pipeline-full-20221115002618 current state:\n",
      "PipelineState.PIPELINE_STATE_RUNNING\n",
      "INFO:google.cloud.aiplatform.pipeline_jobs:PipelineJob run completed. Resource name: projects/384232171367/locations/us-central1/pipelineJobs/covertype-kfp-pipeline-full-20221115002618\n"
     ]
    }
   ],
   "source": [
    "aiplatform.init(project=PROJECT_ID, location=REGION)\n",
    "\n",
    "pipeline = aiplatform.PipelineJob(\n",
    "    display_name=\"covertype_kfp_pipeline\",\n",
    "    template_path=PIPELINE_JSON,\n",
    "    enable_caching=True,\n",
    ")\n",
    "\n",
    "pipeline.run()"
   ]
  },
  {
   "cell_type": "markdown",
   "metadata": {},
   "source": [
    "Copyright 2021 Google LLC\n",
    "\n",
    "Licensed under the Apache License, Version 2.0 (the \"License\");\n",
    "you may not use this file except in compliance with the License.\n",
    "You may obtain a copy of the License at\n",
    "\n",
    "    https://www.apache.org/licenses/LICENSE-2.0\n",
    "\n",
    "Unless required by applicable law or agreed to in writing, software\n",
    "distributed under the License is distributed on an \"AS IS\" BASIS,\n",
    "WITHOUT WARRANTIES OR CONDITIONS OF ANY KIND, either express or implied.\n",
    "See the License for the specific language governing permissions and\n",
    "limitations under the License."
   ]
  }
 ],
 "metadata": {
  "environment": {
   "kernel": "python3",
   "name": "tf2-gpu.2-8.m100",
   "type": "gcloud",
   "uri": "gcr.io/deeplearning-platform-release/tf2-gpu.2-8:m100"
  },
  "kernelspec": {
   "display_name": "Python 3",
   "language": "python",
   "name": "python3"
  },
  "language_info": {
   "codemirror_mode": {
    "name": "ipython",
    "version": 3
   },
   "file_extension": ".py",
   "mimetype": "text/x-python",
   "name": "python",
   "nbconvert_exporter": "python",
   "pygments_lexer": "ipython3",
   "version": "3.7.12"
  }
 },
 "nbformat": 4,
 "nbformat_minor": 4
}
