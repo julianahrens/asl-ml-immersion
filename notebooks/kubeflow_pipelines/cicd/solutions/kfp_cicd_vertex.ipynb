{
 "cells": [
  {
   "cell_type": "markdown",
   "metadata": {},
   "source": [
    "# CI/CD for a Kubeflow pipeline on Vertex AI"
   ]
  },
  {
   "cell_type": "markdown",
   "metadata": {},
   "source": [
    "**Learning Objectives:**\n",
    "1. Learn how to create a custom Cloud Build builder to pilote Vertex AI Pipelines\n",
    "1. Learn how to write a Cloud Build config file to build and push all the artifacts for a KFP\n",
    "1. Learn how to setup a Cloud Build GitHub trigger a new run of the Kubeflow PIpeline"
   ]
  },
  {
   "cell_type": "markdown",
   "metadata": {},
   "source": [
    "In this lab you will walk through authoring of a **Cloud Build** CI/CD workflow that automatically builds, deploys, and runs a Kubeflow pipeline on Vertex AI. You will also integrate your workflow with **GitHub** by setting up a trigger that starts the  workflow when a new tag is applied to the **GitHub** repo hosting the pipeline's code."
   ]
  },
  {
   "cell_type": "markdown",
   "metadata": {},
   "source": [
    "## Configuring environment settings"
   ]
  },
  {
   "cell_type": "code",
   "execution_count": 1,
   "metadata": {},
   "outputs": [],
   "source": [
    "PROJECT_ID = !(gcloud config get-value project)\n",
    "PROJECT_ID = PROJECT_ID[0]\n",
    "REGION = \"us-central1\"\n",
    "ARTIFACT_STORE = f\"gs://{PROJECT_ID}-kfp-artifact-store\""
   ]
  },
  {
   "cell_type": "markdown",
   "metadata": {},
   "source": [
    "Let us make sure that the artifact store exists:"
   ]
  },
  {
   "cell_type": "code",
   "execution_count": 2,
   "metadata": {},
   "outputs": [
    {
     "name": "stdout",
     "output_type": "stream",
     "text": [
      "gs://qwiklabs-asl-01-579c20dd4e24-kfp-artifact-store/\n"
     ]
    }
   ],
   "source": [
    "!gsutil ls | grep ^{ARTIFACT_STORE}/$ || gsutil mb -l {REGION} {ARTIFACT_STORE}"
   ]
  },
  {
   "cell_type": "markdown",
   "metadata": {},
   "source": [
    "## Creating the KFP CLI builder for Vertex AI\n",
    "### Review the Dockerfile describing the KFP CLI builder"
   ]
  },
  {
   "cell_type": "code",
   "execution_count": 3,
   "metadata": {},
   "outputs": [
    {
     "name": "stdout",
     "output_type": "stream",
     "text": [
      "FROM gcr.io/deeplearning-platform-release/base-cpu\n",
      "RUN pip install kfp==1.6.6\n",
      "RUN pip install google-cloud-aiplatform==1.3.0\n",
      "ENTRYPOINT [\"/bin/bash\"]\n"
     ]
    }
   ],
   "source": [
    "!cat kfp-cli_vertex/Dockerfile"
   ]
  },
  {
   "cell_type": "markdown",
   "metadata": {},
   "source": [
    "### Build the image and push it to your project's **Container Registry**."
   ]
  },
  {
   "cell_type": "code",
   "execution_count": 4,
   "metadata": {},
   "outputs": [
    {
     "data": {
      "text/plain": [
       "'gcr.io/qwiklabs-asl-01-579c20dd4e24/kfp-cli-vertex:latest'"
      ]
     },
     "execution_count": 4,
     "metadata": {},
     "output_type": "execute_result"
    }
   ],
   "source": [
    "KFP_CLI_IMAGE_NAME = \"kfp-cli-vertex\"\n",
    "KFP_CLI_IMAGE_URI = f\"gcr.io/{PROJECT_ID}/{KFP_CLI_IMAGE_NAME}:latest\"\n",
    "KFP_CLI_IMAGE_URI"
   ]
  },
  {
   "cell_type": "code",
   "execution_count": null,
   "metadata": {},
   "outputs": [],
   "source": [
    "!gcloud builds submit --timeout 15m --tag {KFP_CLI_IMAGE_URI} kfp-cli_vertex"
   ]
  },
  {
   "cell_type": "markdown",
   "metadata": {},
   "source": [
    "## Understanding the **Cloud Build** workflow.\n",
    "\n",
    "Review the `cloudbuild_vertex.yaml` file to understand how the CI/CD workflow is implemented and how environment specific settings are abstracted using **Cloud Build** variables.\n",
    "\n",
    "The CI/CD workflow automates the steps you walked through manually during `lab-02_vertex`:\n",
    "1. Builds the trainer image\n",
    "1. Compiles the pipeline\n",
    "1. Uploads and run the pipeline to the Vertex AI Pipeline environment\n",
    "1. Pushes the trainer to your project's **Container Registry**\n",
    " \n",
    "\n",
    "The **Cloud Build** workflow configuration uses both standard and custom [Cloud Build builders](https://cloud.google.com/cloud-build/docs/cloud-builders). The custom builder encapsulates **KFP CLI**. "
   ]
  },
  {
   "cell_type": "markdown",
   "metadata": {},
   "source": [
    "## Manually triggering CI/CD runs\n",
    "\n",
    "You can manually trigger **Cloud Build** runs using the [gcloud builds submit command]( https://cloud.google.com/sdk/gcloud/reference/builds/submit)."
   ]
  },
  {
   "cell_type": "code",
   "execution_count": 5,
   "metadata": {},
   "outputs": [
    {
     "data": {
      "text/plain": [
       "'_REGION=us-central1,_PIPELINE_FOLDER=./'"
      ]
     },
     "execution_count": 5,
     "metadata": {},
     "output_type": "execute_result"
    }
   ],
   "source": [
    "SUBSTITUTIONS = f\"_REGION={REGION},_PIPELINE_FOLDER=./\"\n",
    "SUBSTITUTIONS"
   ]
  },
  {
   "cell_type": "code",
   "execution_count": 6,
   "metadata": {},
   "outputs": [
    {
     "name": "stdout",
     "output_type": "stream",
     "text": [
      "Creating temporary tarball archive of 13 file(s) totalling 35.0 KiB before compression.\n",
      "Uploading tarball of [.] to [gs://qwiklabs-asl-01-579c20dd4e24_cloudbuild/source/1668597256.866996-90436e621e4b44709c594fc68709e50d.tgz]\n",
      "Created [https://cloudbuild.googleapis.com/v1/projects/qwiklabs-asl-01-579c20dd4e24/locations/global/builds/c4ae32a3-9865-4d0a-99e1-0b6c1f8861bf].\n",
      "Logs are available at [ https://console.cloud.google.com/cloud-build/builds/c4ae32a3-9865-4d0a-99e1-0b6c1f8861bf?project=296524281444 ].\n",
      "----------------------------- REMOTE BUILD OUTPUT ------------------------------\n",
      "starting build \"c4ae32a3-9865-4d0a-99e1-0b6c1f8861bf\"\n",
      "\n",
      "FETCHSOURCE\n",
      "Fetching storage object: gs://qwiklabs-asl-01-579c20dd4e24_cloudbuild/source/1668597256.866996-90436e621e4b44709c594fc68709e50d.tgz#1668597257209103\n",
      "Copying gs://qwiklabs-asl-01-579c20dd4e24_cloudbuild/source/1668597256.866996-90436e621e4b44709c594fc68709e50d.tgz#1668597257209103...\n",
      "/ [1 files][  7.0 KiB/  7.0 KiB]                                                \n",
      "Operation completed over 1 objects/7.0 KiB.\n",
      "BUILD\n",
      "Starting Step #0 - \"Build the trainer image\"\n",
      "Step #0 - \"Build the trainer image\": Already have image (with digest): gcr.io/cloud-builders/docker\n",
      "Step #0 - \"Build the trainer image\": Sending build context to Docker daemon  6.144kB\n",
      "Step #0 - \"Build the trainer image\": Step 1/5 : FROM gcr.io/deeplearning-platform-release/base-cpu\n",
      "Step #0 - \"Build the trainer image\": latest: Pulling from deeplearning-platform-release/base-cpu\n",
      "Step #0 - \"Build the trainer image\": eaead16dc43b: Pulling fs layer\n",
      "Step #0 - \"Build the trainer image\": 6529fe2a781d: Pulling fs layer\n",
      "Step #0 - \"Build the trainer image\": 470effa3df00: Pulling fs layer\n",
      "Step #0 - \"Build the trainer image\": 4f4fb700ef54: Pulling fs layer\n",
      "Step #0 - \"Build the trainer image\": 81f7870f3a99: Pulling fs layer\n",
      "Step #0 - \"Build the trainer image\": 97e572c9d0d3: Pulling fs layer\n",
      "Step #0 - \"Build the trainer image\": 67c86225922e: Pulling fs layer\n",
      "Step #0 - \"Build the trainer image\": f0be7e3b4260: Pulling fs layer\n",
      "Step #0 - \"Build the trainer image\": 27519836c4fe: Pulling fs layer\n",
      "Step #0 - \"Build the trainer image\": 8114d85b6dca: Pulling fs layer\n",
      "Step #0 - \"Build the trainer image\": 4f2efc2c2115: Pulling fs layer\n",
      "Step #0 - \"Build the trainer image\": 8b38fa015e72: Pulling fs layer\n",
      "Step #0 - \"Build the trainer image\": 15b21dd7632f: Pulling fs layer\n",
      "Step #0 - \"Build the trainer image\": 15c1e55a1fdc: Pulling fs layer\n",
      "Step #0 - \"Build the trainer image\": 92394077f3fc: Pulling fs layer\n",
      "Step #0 - \"Build the trainer image\": adc7c41f6a21: Pulling fs layer\n",
      "Step #0 - \"Build the trainer image\": dd2f3ccdd187: Pulling fs layer\n",
      "Step #0 - \"Build the trainer image\": 7d108414db7f: Pulling fs layer\n",
      "Step #0 - \"Build the trainer image\": c0c5eb2fe5ca: Pulling fs layer\n",
      "Step #0 - \"Build the trainer image\": 87f6b5e0c563: Pulling fs layer\n",
      "Step #0 - \"Build the trainer image\": 9993b2c47e68: Pulling fs layer\n",
      "Step #0 - \"Build the trainer image\": 52e0ea262be3: Pulling fs layer\n",
      "Step #0 - \"Build the trainer image\": 4f4fb700ef54: Waiting\n",
      "Step #0 - \"Build the trainer image\": 81f7870f3a99: Waiting\n",
      "Step #0 - \"Build the trainer image\": 97e572c9d0d3: Waiting\n",
      "Step #0 - \"Build the trainer image\": 67c86225922e: Waiting\n",
      "Step #0 - \"Build the trainer image\": f0be7e3b4260: Waiting\n",
      "Step #0 - \"Build the trainer image\": 27519836c4fe: Waiting\n",
      "Step #0 - \"Build the trainer image\": 8114d85b6dca: Waiting\n",
      "Step #0 - \"Build the trainer image\": 4f2efc2c2115: Waiting\n",
      "Step #0 - \"Build the trainer image\": 8b38fa015e72: Waiting\n",
      "Step #0 - \"Build the trainer image\": 15b21dd7632f: Waiting\n",
      "Step #0 - \"Build the trainer image\": 15c1e55a1fdc: Waiting\n",
      "Step #0 - \"Build the trainer image\": 92394077f3fc: Waiting\n",
      "Step #0 - \"Build the trainer image\": adc7c41f6a21: Waiting\n",
      "Step #0 - \"Build the trainer image\": dd2f3ccdd187: Waiting\n",
      "Step #0 - \"Build the trainer image\": 7d108414db7f: Waiting\n",
      "Step #0 - \"Build the trainer image\": c0c5eb2fe5ca: Waiting\n",
      "Step #0 - \"Build the trainer image\": 87f6b5e0c563: Waiting\n",
      "Step #0 - \"Build the trainer image\": 9993b2c47e68: Waiting\n",
      "Step #0 - \"Build the trainer image\": 52e0ea262be3: Waiting\n",
      "Step #0 - \"Build the trainer image\": 470effa3df00: Verifying Checksum\n",
      "Step #0 - \"Build the trainer image\": 470effa3df00: Download complete\n",
      "Step #0 - \"Build the trainer image\": 4f4fb700ef54: Verifying Checksum\n",
      "Step #0 - \"Build the trainer image\": 4f4fb700ef54: Download complete\n",
      "Step #0 - \"Build the trainer image\": eaead16dc43b: Verifying Checksum\n",
      "Step #0 - \"Build the trainer image\": eaead16dc43b: Download complete\n",
      "Step #0 - \"Build the trainer image\": 6529fe2a781d: Verifying Checksum\n",
      "Step #0 - \"Build the trainer image\": 6529fe2a781d: Download complete\n",
      "Step #0 - \"Build the trainer image\": 67c86225922e: Verifying Checksum\n",
      "Step #0 - \"Build the trainer image\": 67c86225922e: Download complete\n",
      "Step #0 - \"Build the trainer image\": f0be7e3b4260: Verifying Checksum\n",
      "Step #0 - \"Build the trainer image\": f0be7e3b4260: Download complete\n",
      "Step #0 - \"Build the trainer image\": 27519836c4fe: Verifying Checksum\n",
      "Step #0 - \"Build the trainer image\": 27519836c4fe: Download complete\n",
      "Step #0 - \"Build the trainer image\": 97e572c9d0d3: Verifying Checksum\n",
      "Step #0 - \"Build the trainer image\": 97e572c9d0d3: Download complete\n",
      "Step #0 - \"Build the trainer image\": 4f2efc2c2115: Verifying Checksum\n",
      "Step #0 - \"Build the trainer image\": 4f2efc2c2115: Download complete\n",
      "Step #0 - \"Build the trainer image\": 8b38fa015e72: Verifying Checksum\n",
      "Step #0 - \"Build the trainer image\": 8b38fa015e72: Download complete\n",
      "Step #0 - \"Build the trainer image\": 15b21dd7632f: Verifying Checksum\n",
      "Step #0 - \"Build the trainer image\": 15b21dd7632f: Download complete\n",
      "Step #0 - \"Build the trainer image\": 15c1e55a1fdc: Verifying Checksum\n",
      "Step #0 - \"Build the trainer image\": 15c1e55a1fdc: Download complete\n",
      "Step #0 - \"Build the trainer image\": 8114d85b6dca: Verifying Checksum\n",
      "Step #0 - \"Build the trainer image\": 8114d85b6dca: Download complete\n",
      "Step #0 - \"Build the trainer image\": adc7c41f6a21: Verifying Checksum\n",
      "Step #0 - \"Build the trainer image\": adc7c41f6a21: Download complete\n",
      "Step #0 - \"Build the trainer image\": 92394077f3fc: Verifying Checksum\n",
      "Step #0 - \"Build the trainer image\": 92394077f3fc: Download complete\n",
      "Step #0 - \"Build the trainer image\": dd2f3ccdd187: Verifying Checksum\n",
      "Step #0 - \"Build the trainer image\": dd2f3ccdd187: Download complete\n",
      "Step #0 - \"Build the trainer image\": 7d108414db7f: Download complete\n",
      "Step #0 - \"Build the trainer image\": c0c5eb2fe5ca: Verifying Checksum\n",
      "Step #0 - \"Build the trainer image\": c0c5eb2fe5ca: Download complete\n",
      "Step #0 - \"Build the trainer image\": 87f6b5e0c563: Verifying Checksum\n",
      "Step #0 - \"Build the trainer image\": 87f6b5e0c563: Download complete\n",
      "Step #0 - \"Build the trainer image\": 52e0ea262be3: Verifying Checksum\n",
      "Step #0 - \"Build the trainer image\": 52e0ea262be3: Download complete\n",
      "Step #0 - \"Build the trainer image\": 81f7870f3a99: Verifying Checksum\n",
      "Step #0 - \"Build the trainer image\": 81f7870f3a99: Download complete\n",
      "Step #0 - \"Build the trainer image\": eaead16dc43b: Pull complete\n",
      "Step #0 - \"Build the trainer image\": 6529fe2a781d: Pull complete\n",
      "Step #0 - \"Build the trainer image\": 470effa3df00: Pull complete\n",
      "Step #0 - \"Build the trainer image\": 4f4fb700ef54: Pull complete\n",
      "Step #0 - \"Build the trainer image\": 9993b2c47e68: Verifying Checksum\n",
      "Step #0 - \"Build the trainer image\": 9993b2c47e68: Download complete\n",
      "Step #0 - \"Build the trainer image\": 81f7870f3a99: Pull complete\n",
      "Step #0 - \"Build the trainer image\": 97e572c9d0d3: Pull complete\n",
      "Step #0 - \"Build the trainer image\": 67c86225922e: Pull complete\n",
      "Step #0 - \"Build the trainer image\": f0be7e3b4260: Pull complete\n",
      "Step #0 - \"Build the trainer image\": 27519836c4fe: Pull complete\n",
      "Step #0 - \"Build the trainer image\": 8114d85b6dca: Pull complete\n",
      "Step #0 - \"Build the trainer image\": 4f2efc2c2115: Pull complete\n",
      "Step #0 - \"Build the trainer image\": 8b38fa015e72: Pull complete\n",
      "Step #0 - \"Build the trainer image\": 15b21dd7632f: Pull complete\n",
      "Step #0 - \"Build the trainer image\": 15c1e55a1fdc: Pull complete\n",
      "Step #0 - \"Build the trainer image\": 92394077f3fc: Pull complete\n",
      "Step #0 - \"Build the trainer image\": adc7c41f6a21: Pull complete\n",
      "Step #0 - \"Build the trainer image\": dd2f3ccdd187: Pull complete\n",
      "Step #0 - \"Build the trainer image\": 7d108414db7f: Pull complete\n",
      "Step #0 - \"Build the trainer image\": c0c5eb2fe5ca: Pull complete\n",
      "Step #0 - \"Build the trainer image\": 87f6b5e0c563: Pull complete\n",
      "--------------------------------------------------------------------------------\n",
      "\u001b[1;31mERROR:\u001b[0m (gcloud.builds.submit) build c4ae32a3-9865-4d0a-99e1-0b6c1f8861bf completed with status \"CANCELLED\"\n"
     ]
    }
   ],
   "source": [
    "!gcloud builds submit . --config cloudbuild_vertex.yaml --substitutions {SUBSTITUTIONS}"
   ]
  },
  {
   "cell_type": "markdown",
   "metadata": {},
   "source": [
    "**Note:** If you experience issues with CloudBuild being able to access Vertex AI, you may need to run the following commands in **CloudShell**:\n",
    "\n",
    "```\n",
    "PROJECT_ID=$(gcloud config get-value project)\n",
    "PROJECT_NUMBER=$(gcloud projects list --filter=\"name=$PROJECT_ID\" --format=\"value(PROJECT_NUMBER)\")\n",
    "gcloud projects add-iam-policy-binding $PROJECT_ID \\\n",
    "    --member=\"serviceAccount:$PROJECT_NUMBER@cloudbuild.gserviceaccount.com\" \\\n",
    "    --role=\"roles/aiplatform.user\"\n",
    "gcloud iam service-accounts add-iam-policy-binding \\\n",
    "    $PROJECT_NUMBER-compute@developer.gserviceaccount.com \\\n",
    "    --member=\"serviceAccount:$PROJECT_NUMBER@cloudbuild.gserviceaccount.com\" \\\n",
    "    --role=\"roles/iam.serviceAccountUser\"\n",
    "```"
   ]
  },
  {
   "cell_type": "markdown",
   "metadata": {},
   "source": [
    "## Setting up GitHub integration\n",
    "\n",
    "In this exercise you integrate your CI/CD workflow with **GitHub**, using [Cloud Build GitHub App](https://github.com/marketplace/google-cloud-build). \n",
    "You will set up a trigger that starts the CI/CD workflow when a new tag is applied to the **GitHub** repo managing the  pipeline source code. You will use a fork of this repo as your source GitHub repository."
   ]
  },
  {
   "cell_type": "markdown",
   "metadata": {},
   "source": [
    "### Create a fork of this repo\n",
    "[Follow the GitHub documentation](https://help.github.com/en/github/getting-started-with-github/fork-a-repo) to fork [this repo](https://github.com/GoogleCloudPlatform/asl-ml-immersion)"
   ]
  },
  {
   "cell_type": "markdown",
   "metadata": {},
   "source": [
    "### Create a **Cloud Build** trigger\n",
    "\n",
    "Connect the fork you created in the previous step to your Google Cloud project and create a trigger following the steps in the [Creating GitHub app trigger](https://cloud.google.com/cloud-build/docs/create-github-app-triggers) article. Use the following values on the **Edit trigger** form:\n",
    "\n",
    "|Field|Value|\n",
    "|-----|-----|\n",
    "|Name|[YOUR TRIGGER NAME]|\n",
    "|Description|[YOUR TRIGGER DESCRIPTION]|\n",
    "|Event| Tag|\n",
    "|Source| [YOUR FORK]|\n",
    "|Tag (regex)|.\\*|\n",
    "|Build Configuration|Cloud Build configuration file (yaml or json)|\n",
    "|Cloud Build configuration file location| ./notebooks/kubeflow_pipelines/cicd/solutions/cloudbuild_vertex.yaml|\n",
    "\n",
    "\n",
    "Use the following values for the substitution variables:\n",
    "\n",
    "|Variable|Value|\n",
    "|--------|-----|\n",
    "|_REGION|us-central1|\n",
    "|_PIPELINE_FOLDER|notebooks/kubeflow_pipelines/cicd/solutions"
   ]
  },
  {
   "cell_type": "markdown",
   "metadata": {},
   "source": [
    "### Trigger the build\n",
    "\n",
    "To start an automated build [create a new release of the repo in GitHub](https://help.github.com/en/github/administering-a-repository/creating-releases). Alternatively, you can start the build by applying a tag using `git`. \n",
    "```\n",
    "git tag [TAG NAME]\n",
    "git push origin --tags\n",
    "```\n"
   ]
  },
  {
   "cell_type": "markdown",
   "metadata": {},
   "source": [
    "After running the command above, a build should have been automatically triggered, which you should able to inspect [here](https://console.cloud.google.com/cloud-build/builds)."
   ]
  },
  {
   "cell_type": "markdown",
   "metadata": {},
   "source": [
    "Copyright 2021 Google LLC\n",
    "\n",
    "Licensed under the Apache License, Version 2.0 (the \"License\");\n",
    "you may not use this file except in compliance with the License.\n",
    "You may obtain a copy of the License at\n",
    "\n",
    "    https://www.apache.org/licenses/LICENSE-2.0\n",
    "\n",
    "Unless required by applicable law or agreed to in writing, software\n",
    "distributed under the License is distributed on an \"AS IS\" BASIS,\n",
    "WITHOUT WARRANTIES OR CONDITIONS OF ANY KIND, either express or implied.\n",
    "See the License for the specific language governing permissions and\n",
    "limitations under the License."
   ]
  }
 ],
 "metadata": {
  "environment": {
   "kernel": "python3",
   "name": "tf2-gpu.2-8.m100",
   "type": "gcloud",
   "uri": "gcr.io/deeplearning-platform-release/tf2-gpu.2-8:m100"
  },
  "kernelspec": {
   "display_name": "Python 3",
   "language": "python",
   "name": "python3"
  },
  "language_info": {
   "codemirror_mode": {
    "name": "ipython",
    "version": 3
   },
   "file_extension": ".py",
   "mimetype": "text/x-python",
   "name": "python",
   "nbconvert_exporter": "python",
   "pygments_lexer": "ipython3",
   "version": "3.7.12"
  }
 },
 "nbformat": 4,
 "nbformat_minor": 4
}
